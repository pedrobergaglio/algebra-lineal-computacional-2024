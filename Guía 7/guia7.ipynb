{
 "cells": [
  {
   "cell_type": "markdown",
   "metadata": {},
   "source": [
    "# Ejercicio 1. \n",
    "Escribir un programa que implemente el m´etodo de Jacobi y otro que implemente\n",
    "el m´etodo de Gauss-Seidel para la resoluci´on de un sistema lineal Ax = b, con las siguientes\n",
    "condiciones:\n",
    "• que finalice si el m´etodo se estaciona,\n",
    "• que finalice con una advertencia si se excede cierto tope de iteraciones.\n",
    "Sugerencia: investigar los comandos np. tril , np. triu y np.diag."
   ]
  },
  {
   "cell_type": "code",
   "execution_count": 8,
   "metadata": {},
   "outputs": [
    {
     "data": {
      "text/plain": [
       "array([[1, 2, 3],\n",
       "       [3, 4, 2],\n",
       "       [6, 3, 4]])"
      ]
     },
     "execution_count": 8,
     "metadata": {},
     "output_type": "execute_result"
    }
   ],
   "source": [
    "import numpy as np\n",
    "\n",
    "#random 3x3 matrix\n",
    "A = np.random.rand(3,3)\n",
    "A = np.array([[1, 2, 3], [3, 4, 2], [6, 3, 4]])\n",
    "A"
   ]
  },
  {
   "cell_type": "code",
   "execution_count": 5,
   "metadata": {},
   "outputs": [
    {
     "data": {
      "text/plain": [
       "array([[0.81527674],\n",
       "       [0.76480554],\n",
       "       [0.92559306]])"
      ]
     },
     "execution_count": 5,
     "metadata": {},
     "output_type": "execute_result"
    }
   ],
   "source": [
    "b = [1, 1, 1]\n",
    "x = np.random.rand(3, 1)\n",
    "b"
   ]
  },
  {
   "cell_type": "code",
   "execution_count": 9,
   "metadata": {},
   "outputs": [
    {
     "name": "stdout",
     "output_type": "stream",
     "text": [
      "[[0.84390531]\n",
      " [0.18164161]\n",
      " [0.15226842]]\n",
      "[[-0.00481175]\n",
      " [-0.51786181]\n",
      " [-1.17069091]]\n",
      "[[-0.00481175]\n",
      " [-0.51786181]\n",
      " [-1.17069091]]\n",
      "[[-0.00481175]\n",
      " [-0.51786181]\n",
      " [-1.17069091]]\n",
      "[[-0.00481175]\n",
      " [-0.51786181]\n",
      " [-1.17069091]]\n",
      "[[-0.00481175]\n",
      " [-0.51786181]\n",
      " [-1.17069091]]\n",
      "[[-0.00481175]\n",
      " [-0.51786181]\n",
      " [-1.17069091]]\n",
      "[[-0.00481175]\n",
      " [-0.51786181]\n",
      " [-1.17069091]]\n",
      "[[-0.00481175]\n",
      " [-0.51786181]\n",
      " [-1.17069091]]\n",
      "[[-0.00481175]\n",
      " [-0.51786181]\n",
      " [-1.17069091]]\n",
      "[[-0.00481175]\n",
      " [-0.51786181]\n",
      " [-1.17069091]]\n"
     ]
    }
   ],
   "source": [
    "def jacobi(A, x, b):\n",
    "\n",
    "    L = np.tril(A,-1)\n",
    "    D = np.diag(np.diag(A))\n",
    "    U = np.triu(A,1)\n",
    "\n",
    "    Bj = -np.linalg.inv(D)@(L+U)\n",
    "    Cj = np.linalg.inv(D)@ b\n",
    "\n",
    "    return Bj @ x + Cj\n",
    "\n",
    "print(x)\n",
    "print(jacobi(A, x, b))\n",
    "print(jacobi(A, x, b))\n",
    "print(jacobi(A, x, b))\n",
    "print(jacobi(A, x, b))\n",
    "print(jacobi(A, x, b))\n",
    "print(jacobi(A, x, b))\n",
    "print(jacobi(A, x, b))\n",
    "print(jacobi(A, x, b))\n",
    "print(jacobi(A, x, b))\n",
    "print(jacobi(A, x, b))"
   ]
  },
  {
   "cell_type": "code",
   "execution_count": null,
   "metadata": {},
   "outputs": [],
   "source": []
  }
 ],
 "metadata": {
  "kernelspec": {
   "display_name": "Python 3",
   "language": "python",
   "name": "python3"
  },
  "language_info": {
   "codemirror_mode": {
    "name": "ipython",
    "version": 3
   },
   "file_extension": ".py",
   "mimetype": "text/x-python",
   "name": "python",
   "nbconvert_exporter": "python",
   "pygments_lexer": "ipython3",
   "version": "3.11.1"
  }
 },
 "nbformat": 4,
 "nbformat_minor": 2
}
